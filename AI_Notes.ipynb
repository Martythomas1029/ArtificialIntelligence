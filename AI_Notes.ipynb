{
  "nbformat": 4,
  "nbformat_minor": 0,
  "metadata": {
    "colab": {
      "provenance": [],
      "include_colab_link": true
    },
    "kernelspec": {
      "name": "python3",
      "display_name": "Python 3"
    },
    "language_info": {
      "name": "python"
    }
  },
  "cells": [
    {
      "cell_type": "markdown",
      "metadata": {
        "id": "view-in-github",
        "colab_type": "text"
      },
      "source": [
        "<a href=\"https://colab.research.google.com/github/Martythomas1029/ArtificialIntelligence/blob/main/AI_Notes.ipynb\" target=\"_parent\"><img src=\"https://colab.research.google.com/assets/colab-badge.svg\" alt=\"Open In Colab\"/></a>"
      ]
    },
    {
      "cell_type": "markdown",
      "source": [
        "# Tic Tac Toe Agent\n",
        "We will be learning python as we design a tic tac toe agent in this notebook.\n",
        "### Definitions\n",
        "*agent* generates actions in response to input/perceptions\n",
        "* random agent\n",
        "* reflexive agent\n",
        "* deterministic agent\n",
        "\n",
        "*environment* provides agent(s) world state perceptions and updates world state\n",
        "\n",
        "*perceptions* agent inputs, which may be partial or complete world state\n",
        "\n",
        "*actions* agent outputs"
      ],
      "metadata": {
        "id": "jtSqHiqM18IH"
      }
    },
    {
      "cell_type": "code",
      "execution_count": null,
      "metadata": {
        "id": "FIMd-sHk1JA6"
      },
      "outputs": [],
      "source": [
        "x = 5\n",
        "print('Hello World')\n",
        "print(x)\n",
        "y = x + 2 # 7\n",
        "z = y * 6 # 2\n",
        "print('y,z',y,z)\n",
        "my_var = z**2 # 42*42 1764\n",
        "print(my_var)\n",
        "my_var = my_var / 42 # 42\n",
        "print(my_var)"
      ]
    },
    {
      "cell_type": "code",
      "source": [
        "my_list = [5,0,2]\n",
        "print(my_list)\n",
        "print(my_list[0])\n",
        "print(my_list[1])\n",
        "print(my_list[0:2])\n",
        "x = my_list[2]\n",
        "print(x)\n",
        "y = my_list[2:3]\n",
        "print(y)\n",
        "my_list[1] = 17\n",
        "print(my_list)\n",
        "list2 = my_list\n",
        "list2[0] = 'x'\n",
        "print(list2)\n",
        "print(my_list)\n"
      ],
      "metadata": {
        "colab": {
          "base_uri": "https://localhost:8080/"
        },
        "id": "22Y42_OO7CUm",
        "outputId": "1cf7932f-dac2-4d31-be8b-5dff9830b5aa"
      },
      "execution_count": null,
      "outputs": [
        {
          "output_type": "stream",
          "name": "stdout",
          "text": [
            "[5, 0, 2]\n",
            "5\n",
            "0\n",
            "[5, 0]\n",
            "2\n",
            "[2]\n",
            "[5, 17, 2]\n",
            "['x', 17, 2]\n",
            "['x', 17, 2]\n"
          ]
        }
      ]
    },
    {
      "cell_type": "markdown",
      "source": [
        "# AI terminology\n",
        "* *Jupyter notebook* ;\n",
        "* *Markdown* ;\n",
        "environment - a representation od the \"world\" state, agent, George Box: ALL models are wrong, some are usefull.\n",
        "agent: \"something\" which picks an action based on input (sensors)\n",
        "\n",
        "AI PEAS SYSTEM\n",
        "\n",
        "P: performance measure\n",
        "E: environment\n",
        "A: actuators (actions that the agent can do)\n",
        "S: sensors (what portion of the world state is provided to agent)\n"
      ],
      "metadata": {
        "id": "-NjDq4ktJPCh"
      }
    },
    {
      "cell_type": "code",
      "source": [
        "# board : environment/world state\n",
        "\n",
        "\n",
        "\n",
        "# print board\n",
        "def PrintBoard(input_board):\n",
        "  \"\"\" This func will print the world state, i.e. board to screen.\"\"\"\n",
        "  # print first three cells\n",
        "  print('----------------')\n",
        "  print(input_board[0:3])\n",
        "  print(input_board[3:6])\n",
        "  print(input_board[6:9])\n",
        "  print('----------------')\n",
        "  return\n",
        "\n",
        "#-------------------------------------\n",
        "# Empty board\n",
        "board1 = ['-','-','-', '-','-','-', '-','-','-']\n",
        "\n",
        "board2 = ['X','X','X', 'O','O','O', '-','-','-']\n",
        "\n",
        "#-------------------------------------\n",
        "# GAME START\n",
        "board = board1.copy()\n",
        "PrintBoard(board)\n",
        "\n",
        "for step in range(9):\n",
        "  PrintBoard(board)\n",
        "  # get next move from user\n",
        "  next_move = int(input('Next Move? '))\n",
        "  board[next_move] = 'X'\n",
        "3\n",
        "print('program complete')\n"
      ],
      "metadata": {
        "colab": {
          "base_uri": "https://localhost:8080/"
        },
        "id": "jAF9cnuQKK7a",
        "outputId": "7b39cf88-af9e-4239-f1d4-3ba6eb363385"
      },
      "execution_count": null,
      "outputs": [
        {
          "output_type": "stream",
          "name": "stdout",
          "text": [
            "----------------\n",
            "['-', '-', '-']\n",
            "['-', '-', '-']\n",
            "['-', '-', '-']\n",
            "----------------\n",
            "----------------\n",
            "['-', '-', '-']\n",
            "['-', '-', '-']\n",
            "['-', '-', '-']\n",
            "----------------\n",
            "Next Move? 2\n",
            "----------------\n",
            "['-', '-', 'X']\n",
            "['-', '-', '-']\n",
            "['-', '-', '-']\n",
            "----------------\n",
            "Next Move? 4\n",
            "----------------\n",
            "['-', '-', 'X']\n",
            "['-', 'X', '-']\n",
            "['-', '-', '-']\n",
            "----------------\n",
            "Next Move? 6\n",
            "----------------\n",
            "['-', '-', 'X']\n",
            "['-', 'X', '-']\n",
            "['X', '-', '-']\n",
            "----------------\n"
          ]
        }
      ]
    }
  ]
}